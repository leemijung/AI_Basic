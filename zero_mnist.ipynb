{
  "nbformat": 4,
  "nbformat_minor": 5,
  "metadata": {
    "kernelspec": {
      "display_name": "conda_pytorch_p27",
      "language": "python",
      "name": "conda_pytorch_p27"
    },
    "language_info": {
      "codemirror_mode": {
        "name": "ipython",
        "version": 2
      },
      "file_extension": ".py",
      "mimetype": "text/x-python",
      "name": "python",
      "nbconvert_exporter": "python",
      "pygments_lexer": "ipython2",
      "version": "2.7.16"
    },
    "colab": {
      "name": "zero_mnist.ipynb",
      "provenance": [],
      "include_colab_link": true
    }
  },
  "cells": [
    {
      "cell_type": "markdown",
      "metadata": {
        "id": "view-in-github",
        "colab_type": "text"
      },
      "source": [
        "<a href=\"https://colab.research.google.com/github/leemijung/AI_Basic/blob/main/zero_mnist.ipynb\" target=\"_parent\"><img src=\"https://colab.research.google.com/assets/colab-badge.svg\" alt=\"Open In Colab\"/></a>"
      ]
    },
    {
      "cell_type": "code",
      "metadata": {
        "id": "geographic-illustration"
      },
      "source": [
        "import torchvision.datasets as dset\n",
        "import torchvision.transforms as transforms\n",
        "from torch.utils.data import DataLoader\n",
        "from torch.autograd import Variable\n",
        "import matplotlib.pyplot as plt\n",
        "%matplotlib inline"
      ],
      "id": "geographic-illustration",
      "execution_count": null,
      "outputs": []
    },
    {
      "cell_type": "markdown",
      "metadata": {
        "id": "treated-tulsa"
      },
      "source": [
        "0) MNIST는 어떻게 생겼나?"
      ],
      "id": "treated-tulsa"
    },
    {
      "cell_type": "code",
      "metadata": {
        "id": "ecological-cigarette",
        "outputId": "9f8ef774-fa2d-4cb1-93b9-1c79cb8f8800",
        "colab": {
          "referenced_widgets": [
            "b28c46ecd6cf4766a9bd55bb0d670585",
            "6be7dfe2f8e24de595ef54166e095929",
            "07d06d85b1ec41199d4c39157112349a",
            "7c0020a5bceb4742b6756f32020a1f07"
          ]
        }
      },
      "source": [
        "# 1. MNIST 로드\n",
        "mnist_train=dset.MNIST(\"\", train=True, transform=transforms.ToTensor(),\n",
        "                      target_transform=None, download=True)\n"
      ],
      "id": "ecological-cigarette",
      "execution_count": null,
      "outputs": [
        {
          "output_type": "stream",
          "text": [
            "Downloading http://yann.lecun.com/exdb/mnist/train-images-idx3-ubyte.gz to MNIST/raw/train-images-idx3-ubyte.gz\n"
          ],
          "name": "stdout"
        },
        {
          "output_type": "display_data",
          "data": {
            "application/vnd.jupyter.widget-view+json": {
              "model_id": "b28c46ecd6cf4766a9bd55bb0d670585",
              "version_major": 2,
              "version_minor": 0
            },
            "text/plain": [
              "HBox(children=(IntProgress(value=1, bar_style=u'info', max=1), HTML(value=u'')))"
            ]
          },
          "metadata": {
            "tags": []
          }
        },
        {
          "output_type": "stream",
          "text": [
            "Extracting MNIST/raw/train-images-idx3-ubyte.gz to MNIST/raw\n",
            "Downloading http://yann.lecun.com/exdb/mnist/train-labels-idx1-ubyte.gz to MNIST/raw/train-labels-idx1-ubyte.gz\n"
          ],
          "name": "stdout"
        },
        {
          "output_type": "display_data",
          "data": {
            "application/vnd.jupyter.widget-view+json": {
              "model_id": "6be7dfe2f8e24de595ef54166e095929",
              "version_major": 2,
              "version_minor": 0
            },
            "text/plain": [
              "HBox(children=(IntProgress(value=1, bar_style=u'info', max=1), HTML(value=u'')))"
            ]
          },
          "metadata": {
            "tags": []
          }
        },
        {
          "output_type": "stream",
          "text": [
            "Extracting MNIST/raw/train-labels-idx1-ubyte.gz to MNIST/raw\n",
            "Downloading http://yann.lecun.com/exdb/mnist/t10k-images-idx3-ubyte.gz to MNIST/raw/t10k-images-idx3-ubyte.gz\n"
          ],
          "name": "stdout"
        },
        {
          "output_type": "display_data",
          "data": {
            "application/vnd.jupyter.widget-view+json": {
              "model_id": "07d06d85b1ec41199d4c39157112349a",
              "version_major": 2,
              "version_minor": 0
            },
            "text/plain": [
              "HBox(children=(IntProgress(value=1, bar_style=u'info', max=1), HTML(value=u'')))"
            ]
          },
          "metadata": {
            "tags": []
          }
        },
        {
          "output_type": "stream",
          "text": [
            "Extracting MNIST/raw/t10k-images-idx3-ubyte.gz to MNIST/raw\n",
            "Downloading http://yann.lecun.com/exdb/mnist/t10k-labels-idx1-ubyte.gz to MNIST/raw/t10k-labels-idx1-ubyte.gz\n"
          ],
          "name": "stdout"
        },
        {
          "output_type": "display_data",
          "data": {
            "application/vnd.jupyter.widget-view+json": {
              "model_id": "7c0020a5bceb4742b6756f32020a1f07",
              "version_major": 2,
              "version_minor": 0
            },
            "text/plain": [
              "HBox(children=(IntProgress(value=1, bar_style=u'info', max=1), HTML(value=u'')))"
            ]
          },
          "metadata": {
            "tags": []
          }
        },
        {
          "output_type": "stream",
          "text": [
            "Extracting MNIST/raw/t10k-labels-idx1-ubyte.gz to MNIST/raw\n",
            "Processing...\n",
            "Done!\n"
          ],
          "name": "stdout"
        }
      ]
    },
    {
      "cell_type": "code",
      "metadata": {
        "id": "scientific-gates",
        "outputId": "49a0aab3-f709-4a98-c12e-6d4f2f7794ff"
      },
      "source": [
        "# 2. 그려보기\n",
        "image, label=mnist_train.__getitem__(0)  # ==  image=mnist_train[0][0]\n",
        "                                         #     label=mnist_train[0][1]\n",
        "print image.size(), label #데이터의 개수, 해상도, label\n",
        "\n",
        "image, label=mnist_train.__getitem__(1)\n",
        "print image.size(), label #데이터의 개수, 해상도, label\n",
        "\n",
        "print mnist_train.__len__()\n",
        "print \"mnist_train 길이:\", len(mnist_train)\n",
        "\n",
        "# 그리기\n",
        "print mnist_train[0][1] #label 존재\n",
        "print mnist_train[0][0].size() #image 존재\n",
        "\n",
        "for i in range(3):\n",
        "    img=mnist_train[i][0].numpy() #image 타입을 numpy 타입으로 변환\n",
        "    #print \"label:\", mnist_train[i][1]\n",
        "    plt.title(\"label: %d\" %mnist_train[i][1])\n",
        "    plt.imshow(img[0], cmap='gray')\n",
        "    plt.show()"
      ],
      "id": "scientific-gates",
      "execution_count": null,
      "outputs": [
        {
          "output_type": "stream",
          "text": [
            "torch.Size([1, 28, 28]) 5\n",
            "torch.Size([1, 28, 28]) 0\n",
            "60000\n",
            "mnist_train 길이: 60000\n",
            "5\n",
            "torch.Size([1, 28, 28])\n"
          ],
          "name": "stdout"
        },
        {
          "output_type": "display_data",
          "data": {
            "image/png": "[encoded data removed]",
            "text/plain": [
              "<Figure size 432x288 with 1 Axes>"
            ]
          },
          "metadata": {
            "tags": [],
            "needs_background": "light"
          }
        },
        {
          "output_type": "display_data",
          "data": {
            "image/png": "[encoded data removed]",
            "text/plain": [
              "<Figure size 432x288 with 1 Axes>"
            ]
          },
          "metadata": {
            "tags": [],
            "needs_background": "light"
          }
        },
        {
          "output_type": "display_data",
          "data": {
            "image/png": "[encoded data removed]",
            "text/plain": [
              "<Figure size 432x288 with 1 Axes>"
            ]
          },
          "metadata": {
            "tags": [],
            "needs_background": "light"
          }
        }
      ]
    },
    {
      "cell_type": "markdown",
      "metadata": {
        "id": "marine-anderson"
      },
      "source": [
        "1) MNIST train, test dataset 가져오기"
      ],
      "id": "marine-anderson"
    },
    {
      "cell_type": "code",
      "metadata": {
        "id": "identical-width",
        "outputId": "8dc6d9cd-0993-49b3-9c1b-f17c271f16fd"
      },
      "source": [
        "mnist_train=dset.MNIST(\"\", train=True, transform=transforms.ToTensor(),\n",
        "                      target_transform=None, download=True) #train용 (6만장)\n",
        "mnist_test=dset.MNIST(\"\", train=False, transform=transforms.ToTensor(),\n",
        "                     target_transform=None, download=True) #test용 (1만장)"
      ],
      "id": "identical-width",
      "execution_count": null,
      "outputs": [
        {
          "output_type": "stream",
          "text": [
            "\n"
          ],
          "name": "stdout"
        }
      ]
    },
    {
      "cell_type": "markdown",
      "metadata": {
        "id": "freelance-hungarian"
      },
      "source": [
        "2) 대략적인 데이터 형태"
      ],
      "id": "freelance-hungarian"
    },
    {
      "cell_type": "code",
      "metadata": {
        "id": "familiar-yesterday",
        "outputId": "0a0638c5-c697-4fa7-ab47-dcc25ca4e091"
      },
      "source": [
        "print \"mnist_train 길이:\", len(mnist_train)\n",
        "print \"mnist_test 길이:\", len(mnist_test)\n",
        "\n",
        "#데이터 하나 형태\n",
        "image, label=mnist_train.__getitem__(0)\n",
        "print \"image data 형태:\", image.size()\n",
        "print \"label:\", label #0~9까지의 label 존재\n",
        "\n",
        "#그리기\n",
        "img=image.numpy() #image 타입을 numpy 타입으로 변환\n",
        "plt.title(\"label: %d\" %label)\n",
        "plt.imshow(img[0], cmap='gray')\n",
        "plt.show()"
      ],
      "id": "familiar-yesterday",
      "execution_count": null,
      "outputs": [
        {
          "output_type": "stream",
          "text": [
            "mnist_train 길이: 60000\n",
            "mnist_test 길이: 10000\n",
            "image data 형태: torch.Size([1, 28, 28])\n",
            "label: 5\n"
          ],
          "name": "stdout"
        },
        {
          "output_type": "display_data",
          "data": {
            "image/png": "[encoded data removed]",
            "text/plain": [
              "<Figure size 432x288 with 1 Axes>"
            ]
          },
          "metadata": {
            "tags": [],
            "needs_background": "light"
          }
        }
      ]
    },
    {
      "cell_type": "markdown",
      "metadata": {
        "id": "italic-evidence"
      },
      "source": [
        "3) 데이터 로드함수 (학습시킬 때 batch_size 단위로 끊어서 로드하기 위함)"
      ],
      "id": "italic-evidence"
    },
    {
      "cell_type": "code",
      "metadata": {
        "id": "racial-uganda"
      },
      "source": [
        "batch_size=16 #끊는 데이터 사이즈를 몇으로 할 것인가 (ex, 16장)"
      ],
      "id": "racial-uganda",
      "execution_count": null,
      "outputs": []
    },
    {
      "cell_type": "code",
      "metadata": {
        "id": "running-bandwidth"
      },
      "source": [
        "import torch\n",
        "\n",
        "train_loader=torch.utils.data.DataLoader(list(mnist_train)[:batch_size*100],\n",
        "                                         batch_size=batch_size, shuffle=True, #shffle 섞는다\n",
        "                                         num_workers=2, drop_last=True)\n",
        "test_loader=torch.utils.data.DataLoader((mnist_test),\n",
        "                                        batch_size=batch_size, shuffle=False, #순서 일관되게 정렬하는 것이 좋기 때문에 shffle 끈다\n",
        "                                        num_workers=2, drop_last=True)\n"
      ],
      "id": "running-bandwidth",
      "execution_count": null,
      "outputs": []
    },
    {
      "cell_type": "markdown",
      "metadata": {
        "id": "genuine-victim"
      },
      "source": [
        "4) 데이터 로드함수 이해하기"
      ],
      "id": "genuine-victim"
    },
    {
      "cell_type": "code",
      "metadata": {
        "id": "framed-headline",
        "outputId": "2554b11b-2cd3-4c42-a91a-5cd397b595f3"
      },
      "source": [
        "n=3 #샘플로 그려볼 데이터 개수\n",
        "for i, [imgs, labels] in enumerate(test_loader): #batch_size 만큼(16) #16개씩 가지고 온다\n",
        "    if i>5: #만장/16번 돌아야 하지만 너무 길어지기 때문에 5번으로 설정.\n",
        "        break;\n",
        "    \n",
        "    print \"[%d]\" %i\n",
        "    print \"한 번에 로드되는 데이터 크기:\", len(imgs) #batch_size과 같다\n",
        "    \n",
        "    x=Variable(imgs)  # [batch_size, 1, 128, 128] = (1, 128, 128) 가 batch_size만큼 존재\n",
        "    x=x.reshape((x.shape[0], x.shape[2], x.shape[3])) # 1이 필요없기 때문에 삭제 [batch_size, 1, 128, 128]->[batch_size, 128, 128] \n",
        "    y_=Variable(labels)\n",
        "    #Variable쓰면 GPU에 올라가기 좋은 형태가 된다. 하지만 Tensor 형태가 된다.\n",
        "    #이를 그림으로 그리기 위해서는 Tensor->numpy로 변환해야 한다.\n",
        "    \n",
        "    print x.shape\n",
        "    print y_.shape\n",
        "    \n",
        "    #그리기\n",
        "    for j in range(n):\n",
        "        img=imgs[j].numpy() #image 타입을 numpy로 변환 (Tensor->numpy)\n",
        "        img=img.reshape((img.shape[1], img.shape[2])) #(1, 128, 128)->(128, 128)\n",
        "        \n",
        "        plt.subplot(1, n, j+1) #subplot은 한줄에 그릴 때 사용  #(1, n)형태 플랏의 j번째 자리에 그린다\n",
        "        plt.imshow(img, cmap='gray')\n",
        "        plt.title(\"label: %d\" %labels[j])\n",
        "    plt.show()"
      ],
      "id": "framed-headline",
      "execution_count": null,
      "outputs": [
        {
          "output_type": "stream",
          "text": [
            "[0]\n",
            "한 번에 로드되는 데이터 크기: 16\n",
            "torch.Size([16, 28, 28])\n",
            "torch.Size([16])\n"
          ],
          "name": "stdout"
        },
        {
          "output_type": "display_data",
          "data": {
            "image/png": "[encoded data removed]",
            "text/plain": [
              "<Figure size 432x288 with 3 Axes>"
            ]
          },
          "metadata": {
            "tags": [],
            "needs_background": "light"
          }
        },
        {
          "output_type": "stream",
          "text": [
            "[1]\n",
            "한 번에 로드되는 데이터 크기: 16\n",
            "torch.Size([16, 28, 28])\n",
            "torch.Size([16])\n"
          ],
          "name": "stdout"
        },
        {
          "output_type": "display_data",
          "data": {
            "image/png": "[encoded data removed]",
            "text/plain": [
              "<Figure size 432x288 with 3 Axes>"
            ]
          },
          "metadata": {
            "tags": [],
            "needs_background": "light"
          }
        },
        {
          "output_type": "stream",
          "text": [
            "[2]\n",
            "한 번에 로드되는 데이터 크기: 16\n",
            "torch.Size([16, 28, 28])\n",
            "torch.Size([16])\n"
          ],
          "name": "stdout"
        },
        {
          "output_type": "display_data",
          "data": {
            "image/png": "[encoded data removed]",
            "text/plain": [
              "<Figure size 432x288 with 3 Axes>"
            ]
          },
          "metadata": {
            "tags": [],
            "needs_background": "light"
          }
        },
        {
          "output_type": "stream",
          "text": [
            "[3]\n",
            "한 번에 로드되는 데이터 크기: 16\n",
            "torch.Size([16, 28, 28])\n",
            "torch.Size([16])\n"
          ],
          "name": "stdout"
        },
        {
          "output_type": "display_data",
          "data": {
            "image/png": "[encoded data removed]",
            "text/plain": [
              "<Figure size 432x288 with 3 Axes>"
            ]
          },
          "metadata": {
            "tags": [],
            "needs_background": "light"
          }
        },
        {
          "output_type": "stream",
          "text": [
            "[4]\n",
            "한 번에 로드되는 데이터 크기: 16\n",
            "torch.Size([16, 28, 28])\n",
            "torch.Size([16])\n"
          ],
          "name": "stdout"
        },
        {
          "output_type": "display_data",
          "data": {
            "image/png": "[encoded data removed]",
            "text/plain": [
              "<Figure size 432x288 with 3 Axes>"
            ]
          },
          "metadata": {
            "tags": [],
            "needs_background": "light"
          }
        },
        {
          "output_type": "stream",
          "text": [
            "[5]\n",
            "한 번에 로드되는 데이터 크기: 16\n",
            "torch.Size([16, 28, 28])\n",
            "torch.Size([16])\n"
          ],
          "name": "stdout"
        },
        {
          "output_type": "display_data",
          "data": {
            "image/png": "[encoded data removed]",
            "text/plain": [
              "<Figure size 432x288 with 3 Axes>"
            ]
          },
          "metadata": {
            "tags": [],
            "needs_background": "light"
          }
        }
      ]
    }
  ]
}