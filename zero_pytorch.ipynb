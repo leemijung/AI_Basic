{
  "nbformat": 4,
  "nbformat_minor": 5,
  "metadata": {
    "kernelspec": {
      "display_name": "conda_pytorch_p27",
      "language": "python",
      "name": "conda_pytorch_p27"
    },
    "language_info": {
      "codemirror_mode": {
        "name": "ipython",
        "version": 2
      },
      "file_extension": ".py",
      "mimetype": "text/x-python",
      "name": "python",
      "nbconvert_exporter": "python",
      "pygments_lexer": "ipython2",
      "version": "2.7.16"
    },
    "colab": {
      "name": "zero_pytorch.ipynb",
      "provenance": [],
      "include_colab_link": true
    }
  },
  "cells": [
    {
      "cell_type": "markdown",
      "metadata": {
        "id": "view-in-github",
        "colab_type": "text"
      },
      "source": [
        "<a href=\"https://colab.research.google.com/github/leemijung/AI_Basic/blob/main/zero_pytorch.ipynb\" target=\"_parent\"><img src=\"https://colab.research.google.com/assets/colab-badge.svg\" alt=\"Open In Colab\"/></a>"
      ]
    },
    {
      "cell_type": "markdown",
      "metadata": {
        "id": "ongoing-correction"
      },
      "source": [
        "파이토치 기초"
      ],
      "id": "ongoing-correction"
    },
    {
      "cell_type": "code",
      "metadata": {
        "id": "likely-orientation"
      },
      "source": [
        "import torch"
      ],
      "id": "likely-orientation",
      "execution_count": null,
      "outputs": []
    },
    {
      "cell_type": "code",
      "metadata": {
        "id": "overall-latin"
      },
      "source": [
        "def print_val(x):\n",
        "    print \"Type: \", type(x)\n",
        "    print \"Shape: \", x.shape\n",
        "    print \"값:\\n\", x\n",
        "    print \" \""
      ],
      "id": "overall-latin",
      "execution_count": null,
      "outputs": []
    },
    {
      "cell_type": "code",
      "metadata": {
        "id": "chicken-andrew",
        "outputId": "6a129709-246e-4b24-e1d7-4575422b753e"
      },
      "source": [
        "x=torch.rand(2, 3, 2) #uniform: 0~1사이 모든 값들이 나올 확률이 같다\n",
        "print_val(x)\n",
        "\n",
        "x=torch.randn(2, 3) #Gaussian: 0을 평균으로 하는 가우시안 분포를 따르는 랜덤값\n",
        "print_val(x)"
      ],
      "id": "chicken-andrew",
      "execution_count": null,
      "outputs": [
        {
          "output_type": "stream",
          "text": [
            "Type:  <class 'torch.Tensor'>\n",
            "Shape:  torch.Size([2, 3, 2])\n",
            "값:\n",
            "tensor([[[0.0756, 0.2796],\n",
            "         [0.1422, 0.3581],\n",
            "         [0.5746, 0.9492]],\n",
            "\n",
            "        [[0.8422, 0.7980],\n",
            "         [0.7364, 0.5117],\n",
            "         [0.1969, 0.5532]]])\n",
            " \n",
            "Type:  <class 'torch.Tensor'>\n",
            "Shape:  torch.Size([2, 3])\n",
            "값:\n",
            "tensor([[-0.4844,  0.2882,  0.3943],\n",
            "        [-1.0233,  0.7451,  0.4395]])\n",
            " \n"
          ],
          "name": "stdout"
        }
      ]
    },
    {
      "cell_type": "code",
      "metadata": {
        "id": "marked-apple",
        "outputId": "5d3f8adf-c84d-45cc-c5c5-7b5e11ab7682"
      },
      "source": [
        "x=torch.randperm(4) #0~n-1(4-1)까지 값을 원소로 갖는 배열 -> 랜덤 배열\n",
        "print_val(x)"
      ],
      "id": "marked-apple",
      "execution_count": null,
      "outputs": [
        {
          "output_type": "stream",
          "text": [
            "Type:  <class 'torch.Tensor'>\n",
            "Shape:  torch.Size([4])\n",
            "값:\n",
            "tensor([1, 0, 3, 2])\n",
            " \n"
          ],
          "name": "stdout"
        }
      ]
    },
    {
      "cell_type": "code",
      "metadata": {
        "id": "compound-letter",
        "outputId": "9e5f3678-bb21-421f-a273-35ccff70cca2"
      },
      "source": [
        "#[start, end]구간을 step 단위로 나눠서 배열로 생성\n",
        "x=torch.arange(0, 3, step=0.5)\n",
        "print_val(x)"
      ],
      "id": "compound-letter",
      "execution_count": null,
      "outputs": [
        {
          "output_type": "stream",
          "text": [
            "Type:  <class 'torch.Tensor'>\n",
            "Shape:  torch.Size([6])\n",
            "값:\n",
            "tensor([0.0000, 0.5000, 1.0000, 1.5000, 2.0000, 2.5000])\n",
            " \n"
          ],
          "name": "stdout"
        }
      ]
    },
    {
      "cell_type": "code",
      "metadata": {
        "id": "sustainable-sleep",
        "outputId": "18684406-574e-401b-b9d3-91a6f1b352f2"
      },
      "source": [
        "print_val(torch.ones(3, 4)) #1로 채워진 배열 생성\n",
        "print_val(torch.zeros(3, 4)) #0으로 채워진 배열 생성"
      ],
      "id": "sustainable-sleep",
      "execution_count": null,
      "outputs": [
        {
          "output_type": "stream",
          "text": [
            "Type:  <class 'torch.Tensor'>\n",
            "Shape:  torch.Size([3, 4])\n",
            "값:\n",
            "tensor([[1., 1., 1., 1.],\n",
            "        [1., 1., 1., 1.],\n",
            "        [1., 1., 1., 1.]])\n",
            " \n",
            "Type:  <class 'torch.Tensor'>\n",
            "Shape:  torch.Size([3, 4])\n",
            "값:\n",
            "tensor([[0., 0., 0., 0.],\n",
            "        [0., 0., 0., 0.],\n",
            "        [0., 0., 0., 0.]])\n",
            " \n"
          ],
          "name": "stdout"
        }
      ]
    },
    {
      "cell_type": "code",
      "metadata": {
        "id": "interesting-thailand",
        "outputId": "df359aad-441c-4f38-a639-3967c791e6ae"
      },
      "source": [
        "print_val(torch.Tensor(2, 4)) #쓰레기값으로 채워진 배열 생성"
      ],
      "id": "interesting-thailand",
      "execution_count": null,
      "outputs": [
        {
          "output_type": "stream",
          "text": [
            "Type:  <class 'torch.Tensor'>\n",
            "Shape:  torch.Size([2, 4])\n",
            "값:\n",
            "tensor([[-8.0528e-08,  3.0875e-41, -8.0528e-08,  3.0875e-41],\n",
            "        [-8.0528e-08,  3.0875e-41,  1.4013e-45,  0.0000e+00]])\n",
            " \n"
          ],
          "name": "stdout"
        }
      ]
    },
    {
      "cell_type": "code",
      "metadata": {
        "id": "adult-resistance",
        "outputId": "914d5b9b-7ce4-40a2-d223-baae65be3dfd"
      },
      "source": [
        "print_val(torch.Tensor([2, 3])) #Tensor이지만, [ , ]로 값 지정 가능하다\n",
        "print_val(torch.Tensor([[2, 3], [3, 4]]))"
      ],
      "id": "adult-resistance",
      "execution_count": null,
      "outputs": [
        {
          "output_type": "stream",
          "text": [
            "Type:  <class 'torch.Tensor'>\n",
            "Shape:  torch.Size([2])\n",
            "값:\n",
            "tensor([2., 3.])\n",
            " \n",
            "Type:  <class 'torch.Tensor'>\n",
            "Shape:  torch.Size([2, 2])\n",
            "값:\n",
            "tensor([[2., 3.],\n",
            "        [3., 4.]])\n",
            " \n"
          ],
          "name": "stdout"
        }
      ]
    },
    {
      "cell_type": "code",
      "metadata": {
        "id": "solid-durham",
        "outputId": "34391488-9780-4d2f-e8ea-d8aef299cce2"
      },
      "source": [
        "#Tensor 타입 변환\n",
        "x=torch.FloatTensor(2, 3)\n",
        "print_val(x)\n",
        "\n",
        "x=x.type_as(torch.IntTensor())\n",
        "print_val(x)"
      ],
      "id": "solid-durham",
      "execution_count": null,
      "outputs": [
        {
          "output_type": "stream",
          "text": [
            "Type:  <class 'torch.Tensor'>\n",
            "Shape:  torch.Size([2, 3])\n",
            "값:\n",
            "tensor([[ 1.1260e-31,  4.5810e-41,  1.1260e-31],\n",
            "        [ 4.5810e-41, -2.2446e+29,  4.5808e-41]])\n",
            " \n",
            "Type:  <class 'torch.Tensor'>\n",
            "Shape:  torch.Size([2, 3])\n",
            "값:\n",
            "tensor([[          0,           0,           0],\n",
            "        [          0, -2147483648,           0]], dtype=torch.int32)\n",
            " \n"
          ],
          "name": "stdout"
        }
      ]
    },
    {
      "cell_type": "code",
      "metadata": {
        "id": "injured-greensboro",
        "outputId": "836e9c12-6f22-426d-b0e9-1c49913fa5f5"
      },
      "source": [
        "#Tensor 크기 변환\n",
        "torch.FloatTensor(3, 4, 5).size()"
      ],
      "id": "injured-greensboro",
      "execution_count": null,
      "outputs": [
        {
          "output_type": "execute_result",
          "data": {
            "text/plain": [
              "torch.Size([3, 4, 5])"
            ]
          },
          "metadata": {
            "tags": []
          },
          "execution_count": 13
        }
      ]
    },
    {
      "cell_type": "code",
      "metadata": {
        "id": "defensive-assignment",
        "outputId": "947f2449-b43a-4682-ef36-a19a1c01d4c8"
      },
      "source": [
        "# numpy array -> torch tensor\n",
        "import numpy as np\n",
        "np_x=np.ndarray((2, 3), dtype=int)\n",
        "print_val(np_x)\n",
        "\n",
        "x=torch.from_numpy(np_x)\n",
        "print_val(x)"
      ],
      "id": "defensive-assignment",
      "execution_count": null,
      "outputs": [
        {
          "output_type": "stream",
          "text": [
            "Type:  <type 'numpy.ndarray'>\n",
            "Shape:  (2, 3)\n",
            "값:\n",
            "[[              0               0               0]\n",
            " [              0               0 140402480906240]]\n",
            " \n",
            "Type:  <class 'torch.Tensor'>\n",
            "Shape:  torch.Size([2, 3])\n",
            "값:\n",
            "tensor([[              0,               0,               0],\n",
            "        [              0,               0, 140402480906240]])\n",
            " \n"
          ],
          "name": "stdout"
        }
      ]
    }
  ]
}